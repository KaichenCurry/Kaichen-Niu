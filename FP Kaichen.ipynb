{
 "cells": [
  {
   "cell_type": "markdown",
   "id": "920632ef-3f67-4b27-8580-1a715c0d1fc6",
   "metadata": {},
   "source": [
    "Predicting Credit Card Fraud Using Machine Learning"
   ]
  }
 ],
 "metadata": {
  "kernelspec": {
   "display_name": "Python 3 (ipykernel)",
   "language": "python",
   "name": "python3"
  },
  "language_info": {
   "codemirror_mode": {
    "name": "ipython",
    "version": 3
   },
   "file_extension": ".py",
   "mimetype": "text/x-python",
   "name": "python",
   "nbconvert_exporter": "python",
   "pygments_lexer": "ipython3",
   "version": "3.10.14"
  }
 },
 "nbformat": 4,
 "nbformat_minor": 5
}
